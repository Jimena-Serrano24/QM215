{
  "nbformat": 4,
  "nbformat_minor": 0,
  "metadata": {
    "colab": {
      "provenance": [],
      "authorship_tag": "ABX9TyMm12eyb2/RwF4b4QLZcS0S",
      "include_colab_link": true
    },
    "kernelspec": {
      "name": "python3",
      "display_name": "Python 3"
    },
    "language_info": {
      "name": "python"
    }
  },
  "cells": [
    {
      "cell_type": "markdown",
      "metadata": {
        "id": "view-in-github",
        "colab_type": "text"
      },
      "source": [
        "<a href=\"https://colab.research.google.com/github/Jimena-Serrano24/QM215/blob/main/Examen1.ipynb\" target=\"_parent\"><img src=\"https://colab.research.google.com/assets/colab-badge.svg\" alt=\"Open In Colab\"/></a>"
      ]
    },
    {
      "cell_type": "markdown",
      "source": [
        "1. Generar una cadena aleatoria de DNA de 2000 nucleótidos: ACGT"
      ],
      "metadata": {
        "id": "4Bfp148jLbRN"
      }
    },
    {
      "cell_type": "code",
      "execution_count": null,
      "metadata": {
        "id": "ivuqUk64LNM2"
      },
      "outputs": [],
      "source": [
        "import numpy as np\n",
        "from scipy.integrate import odeint\n",
        "import matplotlib.pyplot as plt\n",
        "from collections import Counter\n",
        "import string\n",
        "import random\n",
        "import pandas as pd\n"
      ]
    },
    {
      "cell_type": "code",
      "source": [
        "import random\n",
        "Nucleotidos = ['A', 'T', 'G', 'C']\n",
        "secuencia = ''.join(random.choices(Nucleotidos , k=2000))\n",
        "print(\"Secuencia generada:\")\n",
        "print(secuencia)\n",
        "conteo = Counter(secuencia)\n",
        "print(\"\\nConteo de Nucleótidos:\")\n",
        "for nucleotido, count in conteo.items():\n",
        "    print(f\"{nucleotido}: {count}\")"
      ],
      "metadata": {
        "colab": {
          "base_uri": "https://localhost:8080/"
        },
        "id": "7ENTKnfEMnqP",
        "outputId": "d4b39803-147e-4027-8ad8-c34720a296ab"
      },
      "execution_count": null,
      "outputs": [
        {
          "output_type": "stream",
          "name": "stdout",
          "text": [
            "Secuencia generada:\n",
            "AACTCCCACGGAACCTAACAATTAATTTTCTGAACGTCTGATAATTTCCTTACCTTCAAGTCACGCGTAAGGATCTGCCGAATTTTGGCTGTCTGAATTCAGTGAAGGACTAGGGGATATAAGTTCAACTCCTCTGGCTGCTATGAACCTCTGCCAGGTGCGGTTGGGAAACACATGCAAAAGGATCCGTAGCAACGCGAGGAGCAAATAGCTAGCGCGGTGGAGAATCTCCATTCGTGTCCAATTTTTTGGTTGTAGTGCGGTGCGTTTAGAAACCGTGTACTCTCGACACACAGGTAATGTTGAGGTTTTAATCACAGGTAATGACACAGTTAGAATTGAACCCATTAACTAGCAGCGCTTATTACCACATTGGTAAGCCTAGTTCGACTAAACTCGTTAGATGTTTTAGTCTGACATTTTCATACCTACAAATTAAATTTTAGCTGGACTATTCGTAGGGATGACCCGGTTACACAATCATGGGGTTATCCGTAAAACCGTGCGCGGATTAGCCATCTCCAGTGGTGAATAGGATGCACCTGAGGCATGTGTCGCATTCAATAGTATCGCGGACGCAAGTCCGCCTGGGGGATAAAAAATTCACATGAAGTAAGCGAAGCCGTCATCGCTCGCCGAAGTATCGTATAAGTCTGAATGTTCCTTCAAAAGCGTCCATCAGGTATGGGTAAGTGCCAACGAATGCCGGAGTCCTATGTACCGCATGTCGCTACGTGATGCGTCTCGAGGGTTAACATTACAAAGTAATGCTCTCTATATAACCACCTCCATTGCTCGATCCTCGCCAGCCCGGGGTATTACTTTATCTGGCGGAATGCCAGCCGGCTCTCGGGTGGTTACGCGCTAAAGCGTGCTTCTTTTAGATTGGCTTAGAAACCAGACCCTGAGTGACTTCTGAGGTTAGCACAAAACTAAAGTACACTTCCGAGTCCGACATTAGGTGAAAGTGTCGAGTCGTTGGTAACTGAGCCGGCGCCGCGATCAGCGATAATGTAAGCTGGTCGAGGCGGGGACTCGGCTCGAAGAAGCACGCTTCCGTAGATTAACTAGACCTGCCTCCGATAAGCCACAGAAGCTCTAAGTTCCCCTCAGAGTACGTCGGCCTTACAAATTCTACGTGATCCTTTCCTGGTGTCACTATCATGAACATTTTGTAGACCGCGACGCATACCAAGAATCCTTTGGACCGTAGCGATTGCAGATTGCCCACGGGGACGGCTGACTACGCACTACAGACCGGGGAATAGAATGCATCGATTAGTCTAATCCGTGGGCGTTCGGAGGATATTTCCAACAGATGAGCAGCCCGGCGAGCTCTAAACACAATACAGCGCTTGAAGTGGGTCTGCGGTTGGTGACCGGTGTGTTGGGCTAGTATCCGGCTGGTCAAGGGTACCATAGAAGTGTCACCTACATACAAACCACATACGTATGGGCCCTAATCGACATGTGCCATAGGGGTAACCAATTGTGCGGGTATTGTTCGACATACATCTCCTAACTTTACACTTCCAAAGCGCTGCTGCGACGGTATTTTTTGTTTCACGGGAGCCGCACTTGGCCGATTTGGCCGATCTATAACTAATCGGCTATTACTACTCCTATGCATCTAGTGGAAACAACACGAACGTTTCAGTGTTTATTCTCACCGACACGACAGGGTGCTATACACTTGGCCCTGCATTTCAGTCAATCGAAGGTCGTACTAGAATCTTACGAAGCGACACACTCGCAATAAGCTAATTAAATGAAGTAGTGTTCTACTTAGCTTAAGGCGAAGGGAATTAGTGAACGGCCGTTATTCATGCGGTAAGTAGGCTTAGCGCACGCCGCAGGTGACACTTCTGCGGCTTGTCGAAGCAGAATTCTCCGTGACAAGGGCGGGGAGCTCATTGAGGGATGCCCTAGGGGGTGAGCATTGTGCGCGAAGAGACATGCGTATTAGACACGGGCTCTTCGGAGAGACGTATCTCGGAATT\n",
            "\n",
            "Conteo de Nucleótidos:\n",
            "A: 518\n",
            "C: 467\n",
            "T: 510\n",
            "G: 505\n"
          ]
        }
      ]
    },
    {
      "cell_type": "code",
      "source": [
        "import random\n",
        "Nucleotidos = ['A', 'T', 'G', 'C']\n",
        "secuencia = ''.join(random.choices(Nucleotidos , k=2000))\n",
        "print(\"Secuencia generada:\")\n",
        "print(secuencia)\n",
        "conteo = Counter(secuencia)\n",
        "print(\"\\nConteo de Nucleótidos:\")\n",
        "for nucleotido, count in conteo.items():\n",
        "    print(f\"{nucleotido}: {count}\")\n",
        "    patron=\"ATG\"\n",
        "    posiciones=[]\n",
        "    for i in range(len(secuencia)):\n",
        "        if secuencia[i:i+3]==patron:\n",
        "            posiciones.append(i)\n",
        "    print(f'\\nLa secuencia \"{patron}\" aparece {len(posiciones)} veces.')\n",
        "print(f'Posiciones donde aparece \"{patron}\": {posiciones}')"
      ],
      "metadata": {
        "colab": {
          "base_uri": "https://localhost:8080/"
        },
        "id": "tWrG2frFQ5Sm",
        "outputId": "01153879-8872-42e0-f1ca-460e8ecb2cbc"
      },
      "execution_count": null,
      "outputs": [
        {
          "output_type": "stream",
          "name": "stdout",
          "text": [
            "Secuencia generada:\n",
            "GGCATTTCCATCGATAACTGGCGTTAGATGCTTCTAAGTCCAGATCTGACCCCGGTGTGGGCCTCTGTGTCGAACCTTCATACCGTCAGGTACCTCAACTTAGACGCGGAAAAGCCCCCCTTGAACTTAGTTGAAGCTAGTTACTAGCACGACTCGAGATCGCTGTGATGTAGCCCACCGATGGAGTCTAAAAGTGCAGTACCCCTATTTCTCTACTTATTTAACAACACCGTAACTCCTCTGTCTTCCAACACGGTTAGATGTAGTTGGATTGCAGATCGGCGACCACTGAGGTAGGTTTACTATAAAAATCTTGAGGGAGTTCAAGCGAAGTGACCGGCTACTGGGAAACGCCCTACAGATGTAAAATGGACAAGAGACTCACATTATTCGGACCCGAAATGTCGATCTCCCGTAGCTATCGCCTTCCATAACCGAAATCAAAAAGGAGCGCTCTTTGGCACTCGGTTGATCGCGTGCCGCCTTGATTAGCCGCAAAGTGAGAAGTCGCCCCTGTACCTTACGTCCCGCGGTGCCAGACAAACTTGGCCGCAGTTGGGTTTAAACCGTGGCCCTGGGCGCACGACCGCTTCAACTTGGTAGCCGGCGCGTGTATTGGTCGCAAATTTTCCTTCGTCCCGTACACACTCAGCCATTCGTGATGCAACCCTTTCGGTAGCGCCATTTGGGGTCTTACAGAATGGATATGGCGGGACTGCACTTAGCATGTCGAGATCTGAATCCTCAGCTTCATCCAAGAATACGCTTCGGAGTATGGATTACACCTCGACAACTATAGAGGGAGGAGCTGCGGTGTTGTTCGGCCCGACTCTCCATCCACCGCAAATGATAAGTCTGCAGTCTGAGTATCGACAACTGCTAAGTTCCCCTCTATATCCTCGACCTAAGTGCACCAAGAATCTAGCTGTTTCTCCATCAATCCAGTTTGTTGTAACTATACTACAGTGTTAGAGTGAAACTGCTTTATAATCTTACTTAAAAGGTCTCGGAAGCTTGCGTAGTGGTGGGACGGCAAAGATCGTGCTAATGATTGGAGCTGGTGCGATGTAAGTACTTACTATTAACCTCGTGTCACTCATGAGCAAAACGATGTTTGCATCAACATATCTAAGATGAGCCTTTCTTGAGGGCGCCAGGCATCAGGGCGGAACTGCAAGAGCGTCCGCCAAGGGGATGATTCATACCCTGCAAGAAACTGCTACAGTTCATCCAGTTTTACGTTGACATCTGATCACTACAAAAGTGGTTGGCTGGAGGATAGCGGTGTTGTAAATAAGCGGTCTCTGGCGCCGGCTGGGGGCTTACCGCTACTTTGGGGGACTGTGCATAAGGTCGCTCCGTTTCGGTCCTGAAAAACCTGGATCTGAACTTGCGGGGGGAGGGGTGTACGTTTCATAGTCTAGTGACTAGGTTCTCCGGTTCTGCCCTGGGTTGACGGCGCGGGCCACATTGCAAGACTGGCATACATCATATTGTTGTTACGTGATTAAGTACCCGCTCTTGCGCAAGTGGAAGCCCTGGGATGACCACTACCCTTAGCTCCGCGGCGGTGGGGAGCTACCTAATGCATATGTTTCTGATCGGGCATATAACCTCCTCGCCGGTTGAGTAATTGCGAAATGTGTCCGAGCCGACATCAGATTGAGGCTACGATGATGTTCACTCGGAAACACAAGAATTCCGCCCGCGCGCTTGGCAAATCATGCCATAACCACAGGTGCTAGACGGAGATTAAAGTGCGCTATATGACGTTTGTTGTCAGTCACCTGTCCCGAGTACTGATCCATAGTTGCCTGGGAGGTGTTATTTTGGTAGGTGATTAATCGTCTGCCAAGTAATTGAACGTAGAGACTGTGTGCGACGGCACCGGAATCTTTCAGTCGAACACCTTTAACGGTCAAAGCAGTTGGCAGCAATTCGACATCTGCGCACGTATATCAAAGGTATCCTAGCACCATCATGAGGGAGATGTCTATGAC\n",
            "\n",
            "Conteo de Nucleótidos:\n",
            "G: 510\n",
            "\n",
            "La secuencia \"ATG\" aparece 30 veces.\n",
            "C: 489\n",
            "\n",
            "La secuencia \"ATG\" aparece 30 veces.\n",
            "A: 485\n",
            "\n",
            "La secuencia \"ATG\" aparece 30 veces.\n",
            "T: 516\n",
            "\n",
            "La secuencia \"ATG\" aparece 30 veces.\n",
            "Posiciones donde aparece \"ATG\": [27, 167, 180, 260, 361, 368, 401, 661, 700, 706, 726, 774, 846, 1047, 1065, 1098, 1110, 1133, 1194, 1543, 1585, 1591, 1640, 1673, 1676, 1723, 1766, 1980, 1989, 1995]\n"
          ]
        }
      ]
    },
    {
      "cell_type": "code",
      "source": [
        "import random\n",
        "Nucleotidos = ['A', 'T', 'G', 'C']\n",
        "secuencia = ''.join(random.choices(Nucleotidos , k=2000))\n",
        "print(\"Secuencia generada:\")\n",
        "print(secuencia)\n",
        "conteo = Counter(secuencia)\n",
        "print(\"\\nConteo de Nucleótidos:\")\n",
        "for nucleotido, count in conteo.items():\n",
        "    print(f\"{nucleotido}: {count}\")\n",
        "def transformar_adn_arn(secuencia_adn):\n",
        "     return secuencia_adn.replace( 'T', 'U')\n",
        "\n",
        "secuencia_arn = transformar_adn_arn(secuencia)\n",
        "\n",
        "print(\"100 nucleótidos de ARN:\", secuencia_arn[:1000])\n",
        "print(\"\\nConteo de Nucleótidos en ARN:\")\n",
        "conteo_arn = Counter(secuencia_arn)\n",
        "for nucleotido, count in conteo_arn.items():\n",
        "    print(f\"{nucleotido}: {count}\")\n"
      ],
      "metadata": {
        "colab": {
          "base_uri": "https://localhost:8080/"
        },
        "id": "20-pB5NuYtED",
        "outputId": "61b2bff8-8876-46ef-8902-968e0757e97d"
      },
      "execution_count": null,
      "outputs": [
        {
          "output_type": "stream",
          "name": "stdout",
          "text": [
            "Secuencia generada:\n",
            "CGAATGTCAGAAACTTCATAAGATCTCGAATACAAGGATCTGAGCTGGCGCATCGTTTGCCTGTTGAACCGGTGATACTAGGTTGCCCTAGTGATCTCGCCCTACAACGGTCACCGGCTGAGCACGCCACCGTCATTGAAGTTGAGCCGTGATAGCTTAATCCGTGAATTCAAGTAGCACTCATGCTACCCGGGGAGTAATCTAACGTTAAAAGTTCAAGCTGCGCCCCCGTTCCTGATGTGGGAATCCACGACCATTGTTTATAAATTTATTACGGGAGACATTGGATGATAGTCCATGATCCGAAGGACAAGGGGCAATCGATGTGAGAAACTTCTTGGTGATGATCGCTCACGTCGCCGGGCACGGTAATACCCAACCAAACTGTGACCAGAGATCGTCTACCAGTTGTATCACCTTAGACCGTTTAAACGGTTTGCACTGTTTAAGGCGAAGGATCTGGCTTCAGCGACATAGGGGTTTATAACATCTTCAGGGAATTCTGCAACTTAGTGACGATTGTTATGACTTACTTGACATCAAGCCAAGAGAGAGGTGTCGCTGGCGACTCAGATCTTTTTATCAGCATCGTGGCCCATAGGCAACCGCGCCATGGTACCTTCCTAAATTCGGCCATCGTCTATAGAAACTTAGGATAAGTATACAAATACCTTTGAGATTTTGTTCCGTCCGAATGGCCTAAGAACGTTACCTAAGTAAGGGAAGGTCCGCTTTGTTAGGAAAGCCCTACCAGTTGCACGTAGATGGAGTGCGCTGGAGCCCAGAGTTGCACGCATTTTACGCTGCGGTACGCACTGTGCTGACTGGGGTGGTGAAAGGTGAGCGACCAGTCTGTATACATGTTTCAGGTCCTCGTACTCAGGACGGCTGAATAGGAAGCCCCACTCTTGGAGTAATGCTAGCGTGTCGTTAACCCCACCGGGCAGTCGCTTCTATCATGTTCAGACCTGCTGGCTTCGGTGCTAAGAAAGTCAGCAGAGAATAGAAGTAACCGTCCTGTTGGCTGACTAAGTGATCCTTCCTCATAGCCGACCGATGTAACGTGTCGTTCGTCGAGGTCGCGGGGGGCAGAGAAGTTGCGTATTCTACGTCCCATTGGGCTCCCGTATCTATCCGCATTGGCAAATTGGCGTTCTAGCCGGACACCGAGGAATTTATCATGAACGGCTTGCCTCGCGATGCGCACCCCCGTGCCGTTCGTGATGCGTAAAGGTCTTAGCCATTTTCGGCCTGCCTCTCTTAGCCACCACTCGTACCATAGAAAGGTACGTTTCCGAGGGACACGAAAGAAGGCGTTGAGGATACGCAGCCCTGGTCAAACAAGATGATCCTACTAATATCCGTCAGGTCTGTGGAAGTACAGTCGACCGTGGCTTGTTGGATGAAGAAAAGCATTGTGAGATGCCCTATCTACGCGTGGAGCTGCTTAAATCGAAGCCAGCTAACAGGGTTTTTGTCTTGAACAGTGGCGGCACGTTAACTTAACTAGGGCCCATACGCGCCCCGAAAAGTCAAAGCGAGCTGAATAGTAAATCGGCCCTTTTCTATATTCGCATTCAGTCTACCCGGGGTTGAGAATCACGTCAGATGGACTATCGATCCCTATCGTTGAGAGTTGCCCTTTTCTTTAATCCGCGACTACTTCAAAAAGGGCAAGGTCCTGTCATGGAGTCGTAGTCGAGTGAATTAGTGGTCACCCGGGGACAGAAACAGCACGGAAAACACTGCATACGACCCCTCGGAAAAGTTAAGTGCTGCGACAAAACTGTTGGTCCCAAAGAGCGCGGAGCGTAAGATGGGCCATTTCCTCTGGCACCAGAAGAACTGAAGCGGTCTCAAGTGGTTGTGCGAAATGATTATCCCTATAACTGAACAGGGTGGCATCCTAAAGAATGCAATAAAATTCCGAAAGGATACTCAACATTTTTGCGCCTTACTACCGTAAATAGGATCGTCTTCCCGTCCAAGTCCGGGCTGGA\n",
            "\n",
            "Conteo de Nucleótidos:\n",
            "C: 480\n",
            "G: 513\n",
            "A: 511\n",
            "T: 496\n",
            "100 nucleótidos de ARN: CGAAUGUCAGAAACUUCAUAAGAUCUCGAAUACAAGGAUCUGAGCUGGCGCAUCGUUUGCCUGUUGAACCGGUGAUACUAGGUUGCCCUAGUGAUCUCGCCCUACAACGGUCACCGGCUGAGCACGCCACCGUCAUUGAAGUUGAGCCGUGAUAGCUUAAUCCGUGAAUUCAAGUAGCACUCAUGCUACCCGGGGAGUAAUCUAACGUUAAAAGUUCAAGCUGCGCCCCCGUUCCUGAUGUGGGAAUCCACGACCAUUGUUUAUAAAUUUAUUACGGGAGACAUUGGAUGAUAGUCCAUGAUCCGAAGGACAAGGGGCAAUCGAUGUGAGAAACUUCUUGGUGAUGAUCGCUCACGUCGCCGGGCACGGUAAUACCCAACCAAACUGUGACCAGAGAUCGUCUACCAGUUGUAUCACCUUAGACCGUUUAAACGGUUUGCACUGUUUAAGGCGAAGGAUCUGGCUUCAGCGACAUAGGGGUUUAUAACAUCUUCAGGGAAUUCUGCAACUUAGUGACGAUUGUUAUGACUUACUUGACAUCAAGCCAAGAGAGAGGUGUCGCUGGCGACUCAGAUCUUUUUAUCAGCAUCGUGGCCCAUAGGCAACCGCGCCAUGGUACCUUCCUAAAUUCGGCCAUCGUCUAUAGAAACUUAGGAUAAGUAUACAAAUACCUUUGAGAUUUUGUUCCGUCCGAAUGGCCUAAGAACGUUACCUAAGUAAGGGAAGGUCCGCUUUGUUAGGAAAGCCCUACCAGUUGCACGUAGAUGGAGUGCGCUGGAGCCCAGAGUUGCACGCAUUUUACGCUGCGGUACGCACUGUGCUGACUGGGGUGGUGAAAGGUGAGCGACCAGUCUGUAUACAUGUUUCAGGUCCUCGUACUCAGGACGGCUGAAUAGGAAGCCCCACUCUUGGAGUAAUGCUAGCGUGUCGUUAACCCCACCGGGCAGUCGCUUCUAUCAUGUUCAGACCUGCUGGCUUCGGUGCUAAGAAAGUCAGCAGA\n",
            "\n",
            "Conteo de Nucleótidos en ARN:\n",
            "C: 480\n",
            "G: 513\n",
            "A: 511\n",
            "U: 496\n"
          ]
        }
      ]
    },
    {
      "cell_type": "code",
      "source": [
        "import random\n",
        "Nucleotidos = ['A', 'T', 'G', 'C']\n",
        "secuencia = ''.join(random.choices(Nucleotidos , k=2000))\n",
        "\n",
        "def transformar_adn_arn(secuencia_adn):\n",
        "     return secuencia_adn.replace( 'T', 'U')\n",
        "\n",
        "secuencia_arn = transformar_adn_arn(secuencia)\n",
        "\n",
        "print(\"100 nucleótidos de ARN:\", secuencia_arn[:1000])\n",
        "print(\"\\nConteo de Nucleótidos en ARN:\")\n",
        "conteo_arn = Counter(secuencia_arn)\n",
        "for nucleotido, count in conteo_arn.items():\n",
        "    print(f\"{nucleotido}: {count}\")\n"
      ],
      "metadata": {
        "colab": {
          "base_uri": "https://localhost:8080/"
        },
        "id": "QhNh0OpPdd7H",
        "outputId": "3e3b56ec-e547-4d52-a0f2-00eb680402f3"
      },
      "execution_count": null,
      "outputs": [
        {
          "output_type": "stream",
          "name": "stdout",
          "text": [
            "100 nucleótidos de ARN: CUGGCGACCACAAGCCAGGGCCCGGCAUCCACAGGUCCGCGACAUGUCCACAAUGUCCUAUUUGCAACAGGGUACGAGAGUGAGGGGAGUCAAGGAGAGACACACCGAAAAAGGAGGUGUUUGGGGCCUGAUGUCGUGAGGGUUUUUUCUGUGCCAGUAACUAUGUACAAAGAUUGUGACGCGAUACAUGCUCGACAUGACAUAUAUGUAAAGCCAUUCCUUACUAGUUGAUUACGAAGUAUCCGUUCACGUCUGCUGUUUUGUUAGUCCUGUCAGAGGAAACACGCUUCCCUCCUGUUCGAAAAGCAUAACAACAAAAUACGCUACAACCAGCAUCUCUAACAAGGCUAAAAAAUGACAGAUAAGUAUCGGGUUUAGGUGGGGGGUGUGAAGAUAAUUUUGCUUCAGUCGUCUGGUGGGAAUACAGUGAGAACAAUCAGUUCUGAAACCGCUACUAAGCGGCAGGACCACGGUUCUUGAUACCAAUUGUCCUCCUAGCCACCACCUGUGCAAAAAAUACAUCUAUGUGAGGCGCUGCGGCUCUACUCUAUCAUGUCUUAAUCCAUGCUCAGGUAAGUCCGCACGGUGGUGGACGCGUUUCUUGAGGAACGUUAUUUAUCCUAUGUCUCAACAUGGCCUCACGGUCGCCCUUUCCCAAAUUUCCUCGCGUACCUGACGCUUCCCGCUUGAGCAUUGUUCAACGAAACCGUGACAUUGGCCUAGGGGCGAAAACAUCUGUCGACGCGGAGGGCAUUCCGCGGACCCCCUAUCUGCAUUCAGUCUGAACUUGUGGGGUGUAGCUUCCGCCCCACAGUCUUGGGCUACGAACUGCAAGUGAUUAGCGAGGCGUCCCUCCAUCUGGUGAGCAAACUCGCGAGCAUCCGAUACGAUCAGUAUAGUUGGUUAGGGACGACCGGCAAGCCACAGUAGGUAACAAGCCUGAACUAACCCGGCGCUUAAACGCCAGGUAUAGACUAAGGCGAUUGUCCCAGAGUCCGCA\n",
            "\n",
            "Conteo de Nucleótidos en ARN:\n",
            "C: 519\n",
            "U: 495\n",
            "G: 477\n",
            "A: 509\n"
          ]
        }
      ]
    },
    {
      "cell_type": "markdown",
      "source": [
        "2. Problemas con listas:                                                        \n"
      ],
      "metadata": {
        "id": "vz55jfcbd8se"
      }
    },
    {
      "cell_type": "code",
      "source": [
        "Abecedario=list(string.ascii_uppercase)\n",
        "print(Abecedario)\n"
      ],
      "metadata": {
        "colab": {
          "base_uri": "https://localhost:8080/"
        },
        "id": "7PHxAVcveECn",
        "outputId": "0a855373-018f-4f42-f67f-6c10f37f726f"
      },
      "execution_count": null,
      "outputs": [
        {
          "output_type": "stream",
          "name": "stdout",
          "text": [
            "['A', 'B', 'C', 'D', 'E', 'F', 'G', 'H', 'I', 'J', 'K', 'L', 'M', 'N', 'O', 'P', 'Q', 'R', 'S', 'T', 'U', 'V', 'W', 'X', 'Y', 'Z']\n"
          ]
        }
      ]
    },
    {
      "cell_type": "code",
      "source": [
        "Abecedario=list(string.ascii_uppercase)\n",
        "for i in range(len(Abecedario)-1,-1,-1):\n",
        "  if i % 3 == 0:\n",
        "      del Abecedario[i]\n",
        "print(Abecedario)"
      ],
      "metadata": {
        "colab": {
          "base_uri": "https://localhost:8080/"
        },
        "id": "1th7sdtmg3OP",
        "outputId": "da4babb4-309b-4abc-c603-7e21343a6c11"
      },
      "execution_count": null,
      "outputs": [
        {
          "output_type": "stream",
          "name": "stdout",
          "text": [
            "['B', 'C', 'E', 'F', 'H', 'I', 'K', 'L', 'N', 'O', 'Q', 'R', 'T', 'U', 'W', 'X', 'Z']\n"
          ]
        }
      ]
    },
    {
      "cell_type": "markdown",
      "source": [
        "3. Dado que el valor de ex se puede calcular por aproximación de la siguiente suma:\n",
        "\n",
        "![image.png](data:image/png;base64,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)"
      ],
      "metadata": {
        "id": "t-DZI5Ahh8Iu"
      }
    },
    {
      "cell_type": "code",
      "source": [
        "def calcular_e(x, n):\n",
        "    resultado = 0\n",
        "    factorial = 1\n",
        "    for k in range(n+1):\n",
        "        if k > 0:\n",
        "            factorial = factorial * k\n",
        "        resultado = resultado + x**k / factorial\n",
        "    return resultado\n",
        "x = 1\n",
        "for n in range(0, 100):\n",
        "    aproximacion = calcular_e(x, n)\n",
        "    print(\"n =\", n, \"--> e**\", x, \"=\",aproximacion)\n"
      ],
      "metadata": {
        "colab": {
          "base_uri": "https://localhost:8080/"
        },
        "id": "CkItzTWEhh7u",
        "outputId": "4f1fb87e-eec3-4920-e699-8e481f737edf"
      },
      "execution_count": null,
      "outputs": [
        {
          "output_type": "stream",
          "name": "stdout",
          "text": [
            "n = 0 --> e** 1 = 1.0\n",
            "n = 1 --> e** 1 = 2.0\n",
            "n = 2 --> e** 1 = 2.5\n",
            "n = 3 --> e** 1 = 2.6666666666666665\n",
            "n = 4 --> e** 1 = 2.708333333333333\n",
            "n = 5 --> e** 1 = 2.7166666666666663\n",
            "n = 6 --> e** 1 = 2.7180555555555554\n",
            "n = 7 --> e** 1 = 2.7182539682539684\n",
            "n = 8 --> e** 1 = 2.71827876984127\n",
            "n = 9 --> e** 1 = 2.7182815255731922\n",
            "n = 10 --> e** 1 = 2.7182818011463845\n",
            "n = 11 --> e** 1 = 2.718281826198493\n",
            "n = 12 --> e** 1 = 2.7182818282861687\n",
            "n = 13 --> e** 1 = 2.7182818284467594\n",
            "n = 14 --> e** 1 = 2.71828182845823\n",
            "n = 15 --> e** 1 = 2.718281828458995\n",
            "n = 16 --> e** 1 = 2.718281828459043\n",
            "n = 17 --> e** 1 = 2.7182818284590455\n",
            "n = 18 --> e** 1 = 2.7182818284590455\n",
            "n = 19 --> e** 1 = 2.7182818284590455\n",
            "n = 20 --> e** 1 = 2.7182818284590455\n",
            "n = 21 --> e** 1 = 2.7182818284590455\n",
            "n = 22 --> e** 1 = 2.7182818284590455\n",
            "n = 23 --> e** 1 = 2.7182818284590455\n",
            "n = 24 --> e** 1 = 2.7182818284590455\n",
            "n = 25 --> e** 1 = 2.7182818284590455\n",
            "n = 26 --> e** 1 = 2.7182818284590455\n",
            "n = 27 --> e** 1 = 2.7182818284590455\n",
            "n = 28 --> e** 1 = 2.7182818284590455\n",
            "n = 29 --> e** 1 = 2.7182818284590455\n",
            "n = 30 --> e** 1 = 2.7182818284590455\n",
            "n = 31 --> e** 1 = 2.7182818284590455\n",
            "n = 32 --> e** 1 = 2.7182818284590455\n",
            "n = 33 --> e** 1 = 2.7182818284590455\n",
            "n = 34 --> e** 1 = 2.7182818284590455\n",
            "n = 35 --> e** 1 = 2.7182818284590455\n",
            "n = 36 --> e** 1 = 2.7182818284590455\n",
            "n = 37 --> e** 1 = 2.7182818284590455\n",
            "n = 38 --> e** 1 = 2.7182818284590455\n",
            "n = 39 --> e** 1 = 2.7182818284590455\n",
            "n = 40 --> e** 1 = 2.7182818284590455\n",
            "n = 41 --> e** 1 = 2.7182818284590455\n",
            "n = 42 --> e** 1 = 2.7182818284590455\n",
            "n = 43 --> e** 1 = 2.7182818284590455\n",
            "n = 44 --> e** 1 = 2.7182818284590455\n",
            "n = 45 --> e** 1 = 2.7182818284590455\n",
            "n = 46 --> e** 1 = 2.7182818284590455\n",
            "n = 47 --> e** 1 = 2.7182818284590455\n",
            "n = 48 --> e** 1 = 2.7182818284590455\n",
            "n = 49 --> e** 1 = 2.7182818284590455\n",
            "n = 50 --> e** 1 = 2.7182818284590455\n",
            "n = 51 --> e** 1 = 2.7182818284590455\n",
            "n = 52 --> e** 1 = 2.7182818284590455\n",
            "n = 53 --> e** 1 = 2.7182818284590455\n",
            "n = 54 --> e** 1 = 2.7182818284590455\n",
            "n = 55 --> e** 1 = 2.7182818284590455\n",
            "n = 56 --> e** 1 = 2.7182818284590455\n",
            "n = 57 --> e** 1 = 2.7182818284590455\n",
            "n = 58 --> e** 1 = 2.7182818284590455\n",
            "n = 59 --> e** 1 = 2.7182818284590455\n",
            "n = 60 --> e** 1 = 2.7182818284590455\n",
            "n = 61 --> e** 1 = 2.7182818284590455\n",
            "n = 62 --> e** 1 = 2.7182818284590455\n",
            "n = 63 --> e** 1 = 2.7182818284590455\n",
            "n = 64 --> e** 1 = 2.7182818284590455\n",
            "n = 65 --> e** 1 = 2.7182818284590455\n",
            "n = 66 --> e** 1 = 2.7182818284590455\n",
            "n = 67 --> e** 1 = 2.7182818284590455\n",
            "n = 68 --> e** 1 = 2.7182818284590455\n",
            "n = 69 --> e** 1 = 2.7182818284590455\n",
            "n = 70 --> e** 1 = 2.7182818284590455\n",
            "n = 71 --> e** 1 = 2.7182818284590455\n",
            "n = 72 --> e** 1 = 2.7182818284590455\n",
            "n = 73 --> e** 1 = 2.7182818284590455\n",
            "n = 74 --> e** 1 = 2.7182818284590455\n",
            "n = 75 --> e** 1 = 2.7182818284590455\n",
            "n = 76 --> e** 1 = 2.7182818284590455\n",
            "n = 77 --> e** 1 = 2.7182818284590455\n",
            "n = 78 --> e** 1 = 2.7182818284590455\n",
            "n = 79 --> e** 1 = 2.7182818284590455\n",
            "n = 80 --> e** 1 = 2.7182818284590455\n",
            "n = 81 --> e** 1 = 2.7182818284590455\n",
            "n = 82 --> e** 1 = 2.7182818284590455\n",
            "n = 83 --> e** 1 = 2.7182818284590455\n",
            "n = 84 --> e** 1 = 2.7182818284590455\n",
            "n = 85 --> e** 1 = 2.7182818284590455\n",
            "n = 86 --> e** 1 = 2.7182818284590455\n",
            "n = 87 --> e** 1 = 2.7182818284590455\n",
            "n = 88 --> e** 1 = 2.7182818284590455\n",
            "n = 89 --> e** 1 = 2.7182818284590455\n",
            "n = 90 --> e** 1 = 2.7182818284590455\n",
            "n = 91 --> e** 1 = 2.7182818284590455\n",
            "n = 92 --> e** 1 = 2.7182818284590455\n",
            "n = 93 --> e** 1 = 2.7182818284590455\n",
            "n = 94 --> e** 1 = 2.7182818284590455\n",
            "n = 95 --> e** 1 = 2.7182818284590455\n",
            "n = 96 --> e** 1 = 2.7182818284590455\n",
            "n = 97 --> e** 1 = 2.7182818284590455\n",
            "n = 98 --> e** 1 = 2.7182818284590455\n",
            "n = 99 --> e** 1 = 2.7182818284590455\n"
          ]
        }
      ]
    },
    {
      "cell_type": "markdown",
      "source": [
        "4.  Se tiene N temperaturas. Se desea calcular su media y determinar entre todas ellas cuantas son superiores o iguales a esa media y las T max y min. Pasos:\n"
      ],
      "metadata": {
        "id": "CR4phgfoRZ6f"
      }
    },
    {
      "cell_type": "code",
      "source": [
        "import random\n",
        "def generar_temperaturas(n=20, t_min=25, t_max=40):\n",
        "    return [round(random.uniform(t_min, t_max), 2) for _ in range(n)]\n",
        "temperaturas = [round(random.uniform(25, 40), 2) for _ in range(20)]"
      ],
      "metadata": {
        "id": "pFnxyEGkIdTD"
      },
      "execution_count": null,
      "outputs": []
    },
    {
      "cell_type": "code",
      "source": [
        "def calcular_media(lista):\n",
        "    return sum(lista) / len(lista)\n",
        "    media_temp= calcular_media(temperaturas)"
      ],
      "metadata": {
        "id": "0qTpS4_9RrsM"
      },
      "execution_count": null,
      "outputs": []
    },
    {
      "cell_type": "code",
      "source": [
        "def contar_superiores_iguales(lista,valor):\n",
        "  return len([t for t in lista if t >= valor])"
      ],
      "metadata": {
        "id": "c7DKumcBSeEn"
      },
      "execution_count": null,
      "outputs": []
    },
    {
      "cell_type": "code",
      "source": [
        "  cantidad_superiores= contar_superiores_iguales(temperaturas,media_temp)"
      ],
      "metadata": {
        "id": "oorvxxzrad-W"
      },
      "execution_count": null,
      "outputs": []
    },
    {
      "cell_type": "code",
      "source": [
        "print(\"Temperaturas:\", temperaturas)\n",
        "print(\"Media de temperaturas:\", round(media_temp, 2))\n",
        "print(\"Cantidad de temperaturas superiores o iguales a la media:\", cantidad_superiores)"
      ],
      "metadata": {
        "colab": {
          "base_uri": "https://localhost:8080/"
        },
        "id": "zV8dbyfmWHji",
        "outputId": "b25ecb08-4bfe-4332-d467-8e6dc1ede2c2"
      },
      "execution_count": null,
      "outputs": [
        {
          "output_type": "stream",
          "name": "stdout",
          "text": [
            "Temperaturas: [36.09, 36.34, 38.82, 39.46, 36.64, 29.95, 28.41, 33.74, 39.56, 29.7, 36.79, 35.59, 37.81, 35.63, 39.3, 34.7, 28.04, 34.06, 34.94, 31.11]\n",
            "Media de temperaturas: 32.8\n",
            "Cantidad de temperaturas superiores o iguales a la media: 15\n"
          ]
        }
      ]
    },
    {
      "cell_type": "markdown",
      "source": [
        "5. Problema con vectores con python"
      ],
      "metadata": {
        "id": "cvpKk1Hqas_F"
      }
    },
    {
      "cell_type": "code",
      "source": [
        "import numpy as np\n",
        "v1 = np.array([2, 3, 4])\n",
        "v2 = np.array([1, 0, -1])\n",
        "\n",
        "print(\"Vector 1:\", v1)\n",
        "print(\"Vector 2:\", v2)"
      ],
      "metadata": {
        "id": "pBVwUEpCa3kV",
        "colab": {
          "base_uri": "https://localhost:8080/"
        },
        "outputId": "e9caaee4-a43e-40f3-fe87-0cd143642919"
      },
      "execution_count": null,
      "outputs": [
        {
          "output_type": "stream",
          "name": "stdout",
          "text": [
            "Vector 1: [2 3 4]\n",
            "Vector 2: [ 1  0 -1]\n"
          ]
        }
      ]
    },
    {
      "cell_type": "code",
      "source": [
        "producto_escalar = np.dot(v1, v2)\n",
        "print(\"Producto escalar:\", producto_escalar)\n",
        "\n",
        "producto_vectorial = np.cross(v1, v2)\n",
        "print(\"Producto vectorial:\", producto_vectorial)"
      ],
      "metadata": {
        "colab": {
          "base_uri": "https://localhost:8080/"
        },
        "id": "5UhgtLpQdCMv",
        "outputId": "9ed8b1b2-297c-4eaa-95f5-f25ccd8a1715"
      },
      "execution_count": null,
      "outputs": [
        {
          "output_type": "stream",
          "name": "stdout",
          "text": [
            "Producto escalar: -2\n",
            "Producto vectorial: [-3  6 -3]\n"
          ]
        }
      ]
    },
    {
      "cell_type": "code",
      "source": [
        "mag_v1 = np.linalg.norm(v1)\n",
        "mag_v2 = np.linalg.norm(v2)\n",
        "cos_theta = producto_escalar / (mag_v1 * mag_v2)\n",
        "cos_theta = np.clip(cos_theta, -1.0, 1.0)\n",
        "angulo_radianes = np.arccos(cos_theta)\n",
        "angulo_grados = np.degrees(angulo_radianes)\n",
        "print(\"Ángulo entre v1 y v2 (grados):\", round(angulo_grados, 2))"
      ],
      "metadata": {
        "colab": {
          "base_uri": "https://localhost:8080/"
        },
        "id": "wJfh5GWxdCZG",
        "outputId": "5abd1ee1-5bd3-4196-8367-ea4908d64e06"
      },
      "execution_count": null,
      "outputs": [
        {
          "output_type": "stream",
          "name": "stdout",
          "text": [
            "Ángulo entre v1 y v2 (grados): 105.23\n"
          ]
        }
      ]
    },
    {
      "cell_type": "markdown",
      "source": [
        "6. ![image.png](data:image/png;base64,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)"
      ],
      "metadata": {
        "id": "RgcyqAsNelkl"
      }
    },
    {
      "cell_type": "code",
      "source": [
        "import numpy as np\n",
        "import matplotlib.pyplot as plt\n",
        "\n",
        "r = np.linspace(0, 40, 400)\n",
        "psi_3s = (2/(27*np.sqrt(3))) * r*2 * ((2*r*2)/9 - 2*r + 3) * np.exp(-r/3)"
      ],
      "metadata": {
        "id": "dvxL6gHtelEW"
      },
      "execution_count": null,
      "outputs": []
    },
    {
      "cell_type": "code",
      "source": [
        "plt.plot(r, psi_3s, color=\"fuchsia\")\n",
        "plt.xlabel('r')\n",
        "plt.ylabel('psi_3s')\n",
        "plt.title('Función 3s del átomo de hidrógeno')\n",
        "plt.grid()\n",
        "plt.show()"
      ],
      "metadata": {
        "colab": {
          "base_uri": "https://localhost:8080/",
          "height": 472
        },
        "id": "vlprxsrgelPF",
        "outputId": "7db1a8f3-8475-46fa-9198-4074381c883f"
      },
      "execution_count": null,
      "outputs": [
        {
          "output_type": "display_data",
          "data": {
            "text/plain": [
              "<Figure size 640x480 with 1 Axes>"
            ],
            "image/png": "[encoded data removed]"
          },
          "metadata": {}
        }
      ]
    },
    {
      "cell_type": "markdown",
      "source": [
        "7. Graficar un scatterplot con los datos almacenados en la siguiente url:"
      ],
      "metadata": {
        "id": "Gfyr9jLag-aP"
      }
    },
    {
      "cell_type": "code",
      "source": [
        "import pandas as pd\n",
        "url=\"https://raw.githubusercontent.com/PedroGonzalezBeermann2020/QM215-2025/refs/heads/main/wine.csv\"\n",
        "datos=pd.read_csv(url)\n",
        "datos"
      ],
      "metadata": {
        "colab": {
          "base_uri": "https://localhost:8080/",
          "height": 423
        },
        "id": "3VFTqFoJjmXy",
        "outputId": "ef65b800-0208-4e1a-d24e-388d66485620"
      },
      "execution_count": null,
      "outputs": [
        {
          "output_type": "execute_result",
          "data": {
            "text/plain": [
              "     index  alcohol  phenols\n",
              "0        0    14.23     2.80\n",
              "1        1    13.20     2.65\n",
              "2        2    13.16     2.80\n",
              "3        3    14.37     3.85\n",
              "4        4    13.24     2.80\n",
              "..     ...      ...      ...\n",
              "173    173    13.71     1.68\n",
              "174    174    13.40     1.80\n",
              "175    175    13.27     1.59\n",
              "176    176    13.17     1.65\n",
              "177    177    14.13     2.05\n",
              "\n",
              "[178 rows x 3 columns]"
            ],
            "text/html": [
              "\n",
              "  <div id=\"df-b636bb12-c922-4d86-a4eb-655d77c1fbc0\" class=\"colab-df-container\">\n",
              "    <div>\n",
              "<style scoped>\n",
              "    .dataframe tbody tr th:only-of-type {\n",
              "        vertical-align: middle;\n",
              "    }\n",
              "\n",
              "    .dataframe tbody tr th {\n",
              "        vertical-align: top;\n",
              "    }\n",
              "\n",
              "    .dataframe thead th {\n",
              "        text-align: right;\n",
              "    }\n",
              "</style>\n",
              "<table border=\"1\" class=\"dataframe\">\n",
              "  <thead>\n",
              "    <tr style=\"text-align: right;\">\n",
              "      <th></th>\n",
              "      <th>index</th>\n",
              "      <th>alcohol</th>\n",
              "      <th>phenols</th>\n",
              "    </tr>\n",
              "  </thead>\n",
              "  <tbody>\n",
              "    <tr>\n",
              "      <th>0</th>\n",
              "      <td>0</td>\n",
              "      <td>14.23</td>\n",
              "      <td>2.80</td>\n",
              "    </tr>\n",
              "    <tr>\n",
              "      <th>1</th>\n",
              "      <td>1</td>\n",
              "      <td>13.20</td>\n",
              "      <td>2.65</td>\n",
              "    </tr>\n",
              "    <tr>\n",
              "      <th>2</th>\n",
              "      <td>2</td>\n",
              "      <td>13.16</td>\n",
              "      <td>2.80</td>\n",
              "    </tr>\n",
              "    <tr>\n",
              "      <th>3</th>\n",
              "      <td>3</td>\n",
              "      <td>14.37</td>\n",
              "      <td>3.85</td>\n",
              "    </tr>\n",
              "    <tr>\n",
              "      <th>4</th>\n",
              "      <td>4</td>\n",
              "      <td>13.24</td>\n",
              "      <td>2.80</td>\n",
              "    </tr>\n",
              "    <tr>\n",
              "      <th>...</th>\n",
              "      <td>...</td>\n",
              "      <td>...</td>\n",
              "      <td>...</td>\n",
              "    </tr>\n",
              "    <tr>\n",
              "      <th>173</th>\n",
              "      <td>173</td>\n",
              "      <td>13.71</td>\n",
              "      <td>1.68</td>\n",
              "    </tr>\n",
              "    <tr>\n",
              "      <th>174</th>\n",
              "      <td>174</td>\n",
              "      <td>13.40</td>\n",
              "      <td>1.80</td>\n",
              "    </tr>\n",
              "    <tr>\n",
              "      <th>175</th>\n",
              "      <td>175</td>\n",
              "      <td>13.27</td>\n",
              "      <td>1.59</td>\n",
              "    </tr>\n",
              "    <tr>\n",
              "      <th>176</th>\n",
              "      <td>176</td>\n",
              "      <td>13.17</td>\n",
              "      <td>1.65</td>\n",
              "    </tr>\n",
              "    <tr>\n",
              "      <th>177</th>\n",
              "      <td>177</td>\n",
              "      <td>14.13</td>\n",
              "      <td>2.05</td>\n",
              "    </tr>\n",
              "  </tbody>\n",
              "</table>\n",
              "<p>178 rows × 3 columns</p>\n",
              "</div>\n",
              "    <div class=\"colab-df-buttons\">\n",
              "\n",
              "  <div class=\"colab-df-container\">\n",
              "    <button class=\"colab-df-convert\" onclick=\"convertToInteractive('df-b636bb12-c922-4d86-a4eb-655d77c1fbc0')\"\n",
              "            title=\"Convert this dataframe to an interactive table.\"\n",
              "            style=\"display:none;\">\n",
              "\n",
              "  <svg xmlns=\"http://www.w3.org/2000/svg\" height=\"24px\" viewBox=\"0 -960 960 960\">\n",
              "    <path d=\"M120-120v-720h720v720H120Zm60-500h600v-160H180v160Zm220 220h160v-160H400v160Zm0 220h160v-160H400v160ZM180-400h160v-160H180v160Zm440 0h160v-160H620v160ZM180-180h160v-160H180v160Zm440 0h160v-160H620v160Z\"/>\n",
              "  </svg>\n",
              "    </button>\n",
              "\n",
              "  <style>\n",
              "    .colab-df-container {\n",
              "      display:flex;\n",
              "      gap: 12px;\n",
              "    }\n",
              "\n",
              "    .colab-df-convert {\n",
              "      background-color: #E8F0FE;\n",
              "      border: none;\n",
              "      border-radius: 50%;\n",
              "      cursor: pointer;\n",
              "      display: none;\n",
              "      fill: #1967D2;\n",
              "      height: 32px;\n",
              "      padding: 0 0 0 0;\n",
              "      width: 32px;\n",
              "    }\n",
              "\n",
              "    .colab-df-convert:hover {\n",
              "      background-color: #E2EBFA;\n",
              "      box-shadow: 0px 1px 2px rgba(60, 64, 67, 0.3), 0px 1px 3px 1px rgba(60, 64, 67, 0.15);\n",
              "      fill: #174EA6;\n",
              "    }\n",
              "\n",
              "    .colab-df-buttons div {\n",
              "      margin-bottom: 4px;\n",
              "    }\n",
              "\n",
              "    [theme=dark] .colab-df-convert {\n",
              "      background-color: #3B4455;\n",
              "      fill: #D2E3FC;\n",
              "    }\n",
              "\n",
              "    [theme=dark] .colab-df-convert:hover {\n",
              "      background-color: #434B5C;\n",
              "      box-shadow: 0px 1px 3px 1px rgba(0, 0, 0, 0.15);\n",
              "      filter: drop-shadow(0px 1px 2px rgba(0, 0, 0, 0.3));\n",
              "      fill: #FFFFFF;\n",
              "    }\n",
              "  </style>\n",
              "\n",
              "    <script>\n",
              "      const buttonEl =\n",
              "        document.querySelector('#df-b636bb12-c922-4d86-a4eb-655d77c1fbc0 button.colab-df-convert');\n",
              "      buttonEl.style.display =\n",
              "        google.colab.kernel.accessAllowed ? 'block' : 'none';\n",
              "\n",
              "      async function convertToInteractive(key) {\n",
              "        const element = document.querySelector('#df-b636bb12-c922-4d86-a4eb-655d77c1fbc0');\n",
              "        const dataTable =\n",
              "          await google.colab.kernel.invokeFunction('convertToInteractive',\n",
              "                                                    [key], {});\n",
              "        if (!dataTable) return;\n",
              "\n",
              "        const docLinkHtml = 'Like what you see? Visit the ' +\n",
              "          '<a target=\"_blank\" href=https://colab.research.google.com/notebooks/data_table.ipynb>data table notebook</a>'\n",
              "          + ' to learn more about interactive tables.';\n",
              "        element.innerHTML = '';\n",
              "        dataTable['output_type'] = 'display_data';\n",
              "        await google.colab.output.renderOutput(dataTable, element);\n",
              "        const docLink = document.createElement('div');\n",
              "        docLink.innerHTML = docLinkHtml;\n",
              "        element.appendChild(docLink);\n",
              "      }\n",
              "    </script>\n",
              "  </div>\n",
              "\n",
              "\n",
              "    <div id=\"df-35f3c74a-ab78-4eb0-9e52-4fe8d8478b7a\">\n",
              "      <button class=\"colab-df-quickchart\" onclick=\"quickchart('df-35f3c74a-ab78-4eb0-9e52-4fe8d8478b7a')\"\n",
              "                title=\"Suggest charts\"\n",
              "                style=\"display:none;\">\n",
              "\n",
              "<svg xmlns=\"http://www.w3.org/2000/svg\" height=\"24px\"viewBox=\"0 0 24 24\"\n",
              "     width=\"24px\">\n",
              "    <g>\n",
              "        <path d=\"M19 3H5c-1.1 0-2 .9-2 2v14c0 1.1.9 2 2 2h14c1.1 0 2-.9 2-2V5c0-1.1-.9-2-2-2zM9 17H7v-7h2v7zm4 0h-2V7h2v10zm4 0h-2v-4h2v4z\"/>\n",
              "    </g>\n",
              "</svg>\n",
              "      </button>\n",
              "\n",
              "<style>\n",
              "  .colab-df-quickchart {\n",
              "      --bg-color: #E8F0FE;\n",
              "      --fill-color: #1967D2;\n",
              "      --hover-bg-color: #E2EBFA;\n",
              "      --hover-fill-color: #174EA6;\n",
              "      --disabled-fill-color: #AAA;\n",
              "      --disabled-bg-color: #DDD;\n",
              "  }\n",
              "\n",
              "  [theme=dark] .colab-df-quickchart {\n",
              "      --bg-color: #3B4455;\n",
              "      --fill-color: #D2E3FC;\n",
              "      --hover-bg-color: #434B5C;\n",
              "      --hover-fill-color: #FFFFFF;\n",
              "      --disabled-bg-color: #3B4455;\n",
              "      --disabled-fill-color: #666;\n",
              "  }\n",
              "\n",
              "  .colab-df-quickchart {\n",
              "    background-color: var(--bg-color);\n",
              "    border: none;\n",
              "    border-radius: 50%;\n",
              "    cursor: pointer;\n",
              "    display: none;\n",
              "    fill: var(--fill-color);\n",
              "    height: 32px;\n",
              "    padding: 0;\n",
              "    width: 32px;\n",
              "  }\n",
              "\n",
              "  .colab-df-quickchart:hover {\n",
              "    background-color: var(--hover-bg-color);\n",
              "    box-shadow: 0 1px 2px rgba(60, 64, 67, 0.3), 0 1px 3px 1px rgba(60, 64, 67, 0.15);\n",
              "    fill: var(--button-hover-fill-color);\n",
              "  }\n",
              "\n",
              "  .colab-df-quickchart-complete:disabled,\n",
              "  .colab-df-quickchart-complete:disabled:hover {\n",
              "    background-color: var(--disabled-bg-color);\n",
              "    fill: var(--disabled-fill-color);\n",
              "    box-shadow: none;\n",
              "  }\n",
              "\n",
              "  .colab-df-spinner {\n",
              "    border: 2px solid var(--fill-color);\n",
              "    border-color: transparent;\n",
              "    border-bottom-color: var(--fill-color);\n",
              "    animation:\n",
              "      spin 1s steps(1) infinite;\n",
              "  }\n",
              "\n",
              "  @keyframes spin {\n",
              "    0% {\n",
              "      border-color: transparent;\n",
              "      border-bottom-color: var(--fill-color);\n",
              "      border-left-color: var(--fill-color);\n",
              "    }\n",
              "    20% {\n",
              "      border-color: transparent;\n",
              "      border-left-color: var(--fill-color);\n",
              "      border-top-color: var(--fill-color);\n",
              "    }\n",
              "    30% {\n",
              "      border-color: transparent;\n",
              "      border-left-color: var(--fill-color);\n",
              "      border-top-color: var(--fill-color);\n",
              "      border-right-color: var(--fill-color);\n",
              "    }\n",
              "    40% {\n",
              "      border-color: transparent;\n",
              "      border-right-color: var(--fill-color);\n",
              "      border-top-color: var(--fill-color);\n",
              "    }\n",
              "    60% {\n",
              "      border-color: transparent;\n",
              "      border-right-color: var(--fill-color);\n",
              "    }\n",
              "    80% {\n",
              "      border-color: transparent;\n",
              "      border-right-color: var(--fill-color);\n",
              "      border-bottom-color: var(--fill-color);\n",
              "    }\n",
              "    90% {\n",
              "      border-color: transparent;\n",
              "      border-bottom-color: var(--fill-color);\n",
              "    }\n",
              "  }\n",
              "</style>\n",
              "\n",
              "      <script>\n",
              "        async function quickchart(key) {\n",
              "          const quickchartButtonEl =\n",
              "            document.querySelector('#' + key + ' button');\n",
              "          quickchartButtonEl.disabled = true;  // To prevent multiple clicks.\n",
              "          quickchartButtonEl.classList.add('colab-df-spinner');\n",
              "          try {\n",
              "            const charts = await google.colab.kernel.invokeFunction(\n",
              "                'suggestCharts', [key], {});\n",
              "          } catch (error) {\n",
              "            console.error('Error during call to suggestCharts:', error);\n",
              "          }\n",
              "          quickchartButtonEl.classList.remove('colab-df-spinner');\n",
              "          quickchartButtonEl.classList.add('colab-df-quickchart-complete');\n",
              "        }\n",
              "        (() => {\n",
              "          let quickchartButtonEl =\n",
              "            document.querySelector('#df-35f3c74a-ab78-4eb0-9e52-4fe8d8478b7a button');\n",
              "          quickchartButtonEl.style.display =\n",
              "            google.colab.kernel.accessAllowed ? 'block' : 'none';\n",
              "        })();\n",
              "      </script>\n",
              "    </div>\n",
              "\n",
              "  <div id=\"id_db0b308e-f4d2-427a-9a6f-4bb3fbfad99f\">\n",
              "    <style>\n",
              "      .colab-df-generate {\n",
              "        background-color: #E8F0FE;\n",
              "        border: none;\n",
              "        border-radius: 50%;\n",
              "        cursor: pointer;\n",
              "        display: none;\n",
              "        fill: #1967D2;\n",
              "        height: 32px;\n",
              "        padding: 0 0 0 0;\n",
              "        width: 32px;\n",
              "      }\n",
              "\n",
              "      .colab-df-generate:hover {\n",
              "        background-color: #E2EBFA;\n",
              "        box-shadow: 0px 1px 2px rgba(60, 64, 67, 0.3), 0px 1px 3px 1px rgba(60, 64, 67, 0.15);\n",
              "        fill: #174EA6;\n",
              "      }\n",
              "\n",
              "      [theme=dark] .colab-df-generate {\n",
              "        background-color: #3B4455;\n",
              "        fill: #D2E3FC;\n",
              "      }\n",
              "\n",
              "      [theme=dark] .colab-df-generate:hover {\n",
              "        background-color: #434B5C;\n",
              "        box-shadow: 0px 1px 3px 1px rgba(0, 0, 0, 0.15);\n",
              "        filter: drop-shadow(0px 1px 2px rgba(0, 0, 0, 0.3));\n",
              "        fill: #FFFFFF;\n",
              "      }\n",
              "    </style>\n",
              "    <button class=\"colab-df-generate\" onclick=\"generateWithVariable('datos')\"\n",
              "            title=\"Generate code using this dataframe.\"\n",
              "            style=\"display:none;\">\n",
              "\n",
              "  <svg xmlns=\"http://www.w3.org/2000/svg\" height=\"24px\"viewBox=\"0 0 24 24\"\n",
              "       width=\"24px\">\n",
              "    <path d=\"M7,19H8.4L18.45,9,17,7.55,7,17.6ZM5,21V16.75L18.45,3.32a2,2,0,0,1,2.83,0l1.4,1.43a1.91,1.91,0,0,1,.58,1.4,1.91,1.91,0,0,1-.58,1.4L9.25,21ZM18.45,9,17,7.55Zm-12,3A5.31,5.31,0,0,0,4.9,8.1,5.31,5.31,0,0,0,1,6.5,5.31,5.31,0,0,0,4.9,4.9,5.31,5.31,0,0,0,6.5,1,5.31,5.31,0,0,0,8.1,4.9,5.31,5.31,0,0,0,12,6.5,5.46,5.46,0,0,0,6.5,12Z\"/>\n",
              "  </svg>\n",
              "    </button>\n",
              "    <script>\n",
              "      (() => {\n",
              "      const buttonEl =\n",
              "        document.querySelector('#id_db0b308e-f4d2-427a-9a6f-4bb3fbfad99f button.colab-df-generate');\n",
              "      buttonEl.style.display =\n",
              "        google.colab.kernel.accessAllowed ? 'block' : 'none';\n",
              "\n",
              "      buttonEl.onclick = () => {\n",
              "        google.colab.notebook.generateWithVariable('datos');\n",
              "      }\n",
              "      })();\n",
              "    </script>\n",
              "  </div>\n",
              "\n",
              "    </div>\n",
              "  </div>\n"
            ],
            "application/vnd.google.colaboratory.intrinsic+json": {
              "type": "dataframe",
              "variable_name": "datos",
              "summary": "{\n  \"name\": \"datos\",\n  \"rows\": 178,\n  \"fields\": [\n    {\n      \"column\": \"index\",\n      \"properties\": {\n        \"dtype\": \"number\",\n        \"std\": 51,\n        \"min\": 0,\n        \"max\": 177,\n        \"num_unique_values\": 178,\n        \"samples\": [\n          19,\n          45,\n          140\n        ],\n        \"semantic_type\": \"\",\n        \"description\": \"\"\n      }\n    },\n    {\n      \"column\": \"alcohol\",\n      \"properties\": {\n        \"dtype\": \"number\",\n        \"std\": 0.8118265380058577,\n        \"min\": 11.03,\n        \"max\": 14.83,\n        \"num_unique_values\": 126,\n        \"samples\": [\n          11.62,\n          13.64,\n          13.69\n        ],\n        \"semantic_type\": \"\",\n        \"description\": \"\"\n      }\n    },\n    {\n      \"column\": \"phenols\",\n      \"properties\": {\n        \"dtype\": \"number\",\n        \"std\": 0.6258510488339891,\n        \"min\": 0.98,\n        \"max\": 3.88,\n        \"num_unique_values\": 97,\n        \"samples\": [\n          1.68,\n          2.11,\n          1.35\n        ],\n        \"semantic_type\": \"\",\n        \"description\": \"\"\n      }\n    }\n  ]\n}"
            }
          },
          "metadata": {},
          "execution_count": 15
        }
      ]
    },
    {
      "cell_type": "code",
      "source": [
        "import pandas as pd\n",
        "url=\"https://raw.githubusercontent.com/PedroGonzalezBeermann2020/QM215-2025/refs/heads/main/wine.csv\"\n",
        "df = pd.read_csv(url, sep=\",\")\n",
        "print(df.head())\n",
        "print(df.columns)"
      ],
      "metadata": {
        "colab": {
          "base_uri": "https://localhost:8080/"
        },
        "id": "9v37FlRcelVR",
        "outputId": "e746a284-1e14-483c-a75d-d61a42af5623"
      },
      "execution_count": null,
      "outputs": [
        {
          "output_type": "stream",
          "name": "stdout",
          "text": [
            "   index  alcohol  phenols\n",
            "0      0    14.23     2.80\n",
            "1      1    13.20     2.65\n",
            "2      2    13.16     2.80\n",
            "3      3    14.37     3.85\n",
            "4      4    13.24     2.80\n",
            "Index(['index', 'alcohol', 'phenols'], dtype='object')\n"
          ]
        }
      ]
    },
    {
      "cell_type": "code",
      "source": [
        "df.columns = df.columns.str.strip()\n",
        "print(df.columns)"
      ],
      "metadata": {
        "colab": {
          "base_uri": "https://localhost:8080/"
        },
        "id": "Jf9uBcE3inwZ",
        "outputId": "14da3f73-a993-4098-b8b0-2d3289a6bb2e"
      },
      "execution_count": null,
      "outputs": [
        {
          "output_type": "stream",
          "name": "stdout",
          "text": [
            "Index(['index', 'alcohol', 'phenols'], dtype='object')\n"
          ]
        }
      ]
    },
    {
      "cell_type": "code",
      "source": [
        "import matplotlib.pyplot as plt\n",
        "\n",
        "plt.scatter(df['alcohol'], df['phenols'], color='blue')\n",
        "plt.xlabel('Alcohol')\n",
        "plt.ylabel('Phenols')\n",
        "plt.title('Alcohol vs Phenols')\n",
        "plt.grid()\n",
        "plt.show()\n"
      ],
      "metadata": {
        "colab": {
          "base_uri": "https://localhost:8080/",
          "height": 472
        },
        "id": "op9zS0X5hdNz",
        "outputId": "f970b2b0-b8ae-4acf-8b44-b3db963b907f"
      },
      "execution_count": null,
      "outputs": [
        {
          "output_type": "display_data",
          "data": {
            "text/plain": [
              "<Figure size 640x480 with 1 Axes>"
            ],
            "image/png": "[encoded data removed]"
          },
          "metadata": {}
        }
      ]
    },
    {
      "cell_type": "code",
      "source": [
        "plt.scatter(df.index, df['alcohol'], color='green', label='Alcohol')\n",
        "plt.scatter(df.index, df['phenols'], color='purple', label='Phenols')\n",
        "plt.xlabel('Index')\n",
        "plt.ylabel('Valor')\n",
        "plt.title('Alcohol y Phenols')\n",
        "plt.legend()\n",
        "plt.grid()\n",
        "plt.show()"
      ],
      "metadata": {
        "colab": {
          "base_uri": "https://localhost:8080/",
          "height": 472
        },
        "id": "G82hHSa4lSJG",
        "outputId": "bf9a751e-4574-4299-9089-c8fb6ffba775"
      },
      "execution_count": null,
      "outputs": [
        {
          "output_type": "display_data",
          "data": {
            "text/plain": [
              "<Figure size 640x480 with 1 Axes>"
            ],
            "image/png": "[encoded data removed]"
          },
          "metadata": {}
        }
      ]
    },
    {
      "cell_type": "markdown",
      "source": [
        "8. Visualizar los orbitales moleculares para la molécula de CH2=CH-HC=O. Utilizar la plataforma WebMo"
      ],
      "metadata": {
        "id": "EwWOeAk1l-CR"
      }
    },
    {
      "cell_type": "markdown",
      "source": [
        "9. Utilizando la plataforma WebMo generar un gráfico de la energía potencial vs angulo de enlace Cl--C--C--Br para el Cl-CH2-CH2-Br.\n"
      ],
      "metadata": {
        "id": "wrxMfvPLmvYw"
      }
    },
    {
      "cell_type": "markdown",
      "source": [
        "8-9\n",
        "https://github.com/Jimena-Serrano24/QM215/blob/5691e130b9f96601edf637de1158104c8b514164/Examen%20parcial%201%20QM215.pdf"
      ],
      "metadata": {
        "id": "ilCqRWYESenj"
      }
    }
  ]
}